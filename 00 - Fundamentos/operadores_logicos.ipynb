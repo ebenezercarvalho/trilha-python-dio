{
 "cells": [
  {
   "cell_type": "code",
   "execution_count": 1,
   "metadata": {},
   "outputs": [
    {
     "name": "stdout",
     "output_type": "stream",
     "text": [
      "True\n",
      "False\n",
      "False\n",
      "True\n",
      "True\n",
      "False\n",
      "True\n",
      "True\n",
      "True\n"
     ]
    }
   ],
   "source": [
    "# AND = para ser True tudo tem que ser True\n",
    "# OR = para ser True apenas um tem que ser True\n",
    "\n",
    "print(True and True and True)\n",
    "print(True and False and True)\n",
    "print(False and False and False)\n",
    "print(True or True or True)\n",
    "print(True or False or False)\n",
    "print(False or False or False)\n",
    "\n",
    "saldo = 1000\n",
    "saque = 250\n",
    "limite = 200\n",
    "conta_especial = True\n",
    "\n",
    "exp = saldo >= saque and saque <= limite or conta_especial and saldo >= saque\n",
    "print(exp)\n",
    "\n",
    "exp_2 = (saldo >= saque and saque <= limite) or (conta_especial and saldo >= saque)\n",
    "print(exp_2)\n",
    "\n",
    "conta_normal_com_saldo_suficiente = saldo >= saque and saque <= limite\n",
    "conta_especial_com_saldo_suficiente = conta_especial and saldo >= saque\n",
    "\n",
    "exp_3 = conta_normal_com_saldo_suficiente or conta_especial_com_saldo_suficiente\n",
    "print(exp_3)\n"
   ]
  },
  {
   "cell_type": "code",
   "execution_count": 2,
   "metadata": {},
   "outputs": [
    {
     "name": "stdout",
     "output_type": "stream",
     "text": [
      "True\n",
      "False\n",
      "False\n",
      "True\n",
      "True\n",
      "False\n"
     ]
    }
   ],
   "source": [
    "print(True and True and True)\n",
    "print(True and False and True)\n",
    "print(False and False and False)\n",
    "print(True or True or True)\n",
    "print(True or False or False)\n",
    "print(False or False or False)\n"
   ]
  },
  {
   "cell_type": "code",
   "execution_count": 3,
   "metadata": {},
   "outputs": [
    {
     "name": "stdout",
     "output_type": "stream",
     "text": [
      "True\n"
     ]
    }
   ],
   "source": [
    "saldo = 1000\n",
    "saque = 250\n",
    "limite = 200\n",
    "conta_especial = True\n",
    "\n",
    "exp = saldo >= saque and saque <= limite or conta_especial and saldo >= saque\n",
    "print(exp)"
   ]
  },
  {
   "cell_type": "code",
   "execution_count": 4,
   "metadata": {},
   "outputs": [
    {
     "name": "stdout",
     "output_type": "stream",
     "text": [
      "True\n"
     ]
    }
   ],
   "source": [
    "exp_2 = (saldo >= saque and saque <= limite) or (conta_especial and saldo >= saque)\n",
    "print(exp_2)"
   ]
  },
  {
   "cell_type": "code",
   "execution_count": 6,
   "metadata": {},
   "outputs": [
    {
     "name": "stdout",
     "output_type": "stream",
     "text": [
      "True\n"
     ]
    }
   ],
   "source": [
    "conta_normal_com_saldo_suficiente = saldo >= saque and saque <= limite\n",
    "conta_especial_com_saldo_suficiente = conta_especial and saldo >= saque\n",
    "\n",
    "exp_3 = conta_normal_com_saldo_suficiente or conta_especial_com_saldo_suficiente\n",
    "print(exp_3)"
   ]
  },
  {
   "cell_type": "code",
   "execution_count": null,
   "metadata": {},
   "outputs": [],
   "source": []
  }
 ],
 "metadata": {
  "kernelspec": {
   "display_name": "Python 3 (ipykernel)",
   "language": "python",
   "name": "python3"
  },
  "language_info": {
   "codemirror_mode": {
    "name": "ipython",
    "version": 3
   },
   "file_extension": ".py",
   "mimetype": "text/x-python",
   "name": "python",
   "nbconvert_exporter": "python",
   "pygments_lexer": "ipython3",
   "version": "3.12.1"
  }
 },
 "nbformat": 4,
 "nbformat_minor": 2
}
